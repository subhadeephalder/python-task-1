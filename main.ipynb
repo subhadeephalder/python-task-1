{
 "cells": [
  {
   "cell_type": "code",
   "execution_count": 3,
   "id": "068512b2",
   "metadata": {},
   "outputs": [],
   "source": [
    "list1 = [\n",
    "    {\"id\": \"1\", \"name\": \"Shrey\", \"age\": 25},\n",
    "    {\"id\": \"3\", \"age\": 10, \"name\": \"Hello\"},\n",
    "    {\"id\": \"2\", \"name\": \"World\", \"age\": 24},\n",
    "]\n",
    "list2 = [\n",
    "    {\"id\": \"1\", \"marks\": 100},\n",
    "    {\n",
    "        \"id\": \"3\",\n",
    "        \"marks\": 90,\n",
    "        \"roll_no\": 11,\n",
    "        \"extra_info\": {\n",
    "            \"hello\": \"world\",\n",
    "        },\n",
    "    },\n",
    "]\n"
   ]
  },
  {
   "cell_type": "code",
   "execution_count": 6,
   "id": "63975a98",
   "metadata": {},
   "outputs": [],
   "source": [
    "def merge_lists(list1,list2):\n",
    "    final_dict = {}\n",
    "    for x in list1:\n",
    "        user_id = x[\"id\"]\n",
    "        if user_id in final_dict.keys():\n",
    "            for sub_keys in x.keys():\n",
    "                if sub_keys == \"id\":\n",
    "                    continue\n",
    "                else:\n",
    "                    final_dict[user_id].append([sub_keys, x[sub_keys]])\n",
    "        else:\n",
    "            final_dict[user_id] = []\n",
    "            for sub_keys in x.keys():\n",
    "                if sub_keys == \"id\":\n",
    "                    continue\n",
    "                else:\n",
    "                    final_dict[user_id].append([sub_keys, x[sub_keys]])\n",
    "    for x in list2:\n",
    "        user_id = x[\"id\"]\n",
    "        if user_id in final_dict.keys():\n",
    "            for sub_keys in x.keys():\n",
    "                if sub_keys == \"id\":\n",
    "                    continue\n",
    "                else:\n",
    "                    final_dict[user_id].append([sub_keys, x[sub_keys]])\n",
    "        else:\n",
    "            final_dict[user_id] = []\n",
    "            for sub_keys in x.keys():\n",
    "                if sub_keys == \"id\":\n",
    "                    continue\n",
    "                else:\n",
    "                    final_dict[user_id].append([sub_keys, x[sub_keys]])\n",
    "    final_list = []\n",
    "    for x in final_dict.keys():\n",
    "        temp_dict = {}\n",
    "        temp_dict[\"id\"] = x\n",
    "        for elements in final_dict[x]:\n",
    "            temp_dict[elements[0]] = elements[1]\n",
    "        final_list.append(temp_dict)\n",
    "    return final_list"
   ]
  },
  {
   "cell_type": "code",
   "execution_count": 7,
   "id": "ee8c1923",
   "metadata": {},
   "outputs": [
    {
     "name": "stdout",
     "output_type": "stream",
     "text": [
      "[{'id': '1', 'name': 'Shrey', 'age': 25, 'marks': 100}, {'id': '3', 'age': 10, 'name': 'Hello', 'marks': 90, 'roll_no': 11, 'extra_info': {'hello': 'world'}}, {'id': '2', 'name': 'World', 'age': 24}]\n"
     ]
    }
   ],
   "source": [
    "final_list = merge_lists(list1,list2)\n",
    "print(final_list)"
   ]
  },
  {
   "cell_type": "code",
   "execution_count": null,
   "id": "4151f51a",
   "metadata": {},
   "outputs": [],
   "source": []
  }
 ],
 "metadata": {
  "kernelspec": {
   "display_name": "Python 3",
   "language": "python",
   "name": "python3"
  },
  "language_info": {
   "codemirror_mode": {
    "name": "ipython",
    "version": 3
   },
   "file_extension": ".py",
   "mimetype": "text/x-python",
   "name": "python",
   "nbconvert_exporter": "python",
   "pygments_lexer": "ipython3",
   "version": "3.8.8"
  }
 },
 "nbformat": 4,
 "nbformat_minor": 5
}
